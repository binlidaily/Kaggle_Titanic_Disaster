{
 "cells": [
  {
   "cell_type": "markdown",
   "metadata": {},
   "source": [
    "This tutorial is refered to [this](https://www.kaggle.com/ldfreeman3/a-data-science-framework-to-achieve-99-accuracy).\n",
    "\n",
    "## A Data Science Framework\n",
    "1. Define the Problem\n",
    "    * Problems before requirements, requirements before solutions, solutions before design, and design before technology.\n",
    "2. Gather the Data\n",
    "3. Prepare Data for Consumption"
   ]
  },
  {
   "cell_type": "code",
   "execution_count": null,
   "metadata": {},
   "outputs": [],
   "source": []
  }
 ],
 "metadata": {
  "kernelspec": {
   "display_name": "Python 2",
   "language": "python",
   "name": "python2"
  },
  "language_info": {
   "codemirror_mode": {
    "name": "ipython",
    "version": 2
   },
   "file_extension": ".py",
   "mimetype": "text/x-python",
   "name": "python",
   "nbconvert_exporter": "python",
   "pygments_lexer": "ipython2",
   "version": "2.7.12"
  }
 },
 "nbformat": 4,
 "nbformat_minor": 2
}
